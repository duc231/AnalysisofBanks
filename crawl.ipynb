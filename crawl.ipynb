{
  "cells": [
    {
      "cell_type": "code",
      "execution_count": 1,
      "metadata": {
        "id": "7d6aextMOfoy",
        "colab": {
          "base_uri": "https://localhost:8080/"
        },
        "outputId": "ec81b536-ec4c-445a-fac2-2095c5c42e31"
      },
      "outputs": [
        {
          "output_type": "stream",
          "name": "stdout",
          "text": [
            "Collecting vnstock\n",
            "  Downloading vnstock-0.1.9.4-py3-none-any.whl (37 kB)\n",
            "Installing collected packages: vnstock\n",
            "Successfully installed vnstock-0.1.9.4\n",
            "Collecting mysql-connector-python\n",
            "  Downloading mysql_connector_python-8.1.0-cp310-cp310-manylinux_2_17_x86_64.whl (27.5 MB)\n",
            "\u001b[2K     \u001b[90m━━━━━━━━━━━━━━━━━━━━━━━━━━━━━━━━━━━━━━━━\u001b[0m \u001b[32m27.5/27.5 MB\u001b[0m \u001b[31m61.8 MB/s\u001b[0m eta \u001b[36m0:00:00\u001b[0m\n",
            "\u001b[?25hCollecting protobuf<=4.21.12,>=4.21.1 (from mysql-connector-python)\n",
            "  Downloading protobuf-4.21.12-cp37-abi3-manylinux2014_x86_64.whl (409 kB)\n",
            "\u001b[2K     \u001b[90m━━━━━━━━━━━━━━━━━━━━━━━━━━━━━━━━━━━━━━\u001b[0m \u001b[32m409.8/409.8 kB\u001b[0m \u001b[31m28.4 MB/s\u001b[0m eta \u001b[36m0:00:00\u001b[0m\n",
            "\u001b[?25hInstalling collected packages: protobuf, mysql-connector-python\n",
            "  Attempting uninstall: protobuf\n",
            "    Found existing installation: protobuf 3.20.3\n",
            "    Uninstalling protobuf-3.20.3:\n",
            "      Successfully uninstalled protobuf-3.20.3\n",
            "Successfully installed mysql-connector-python-8.1.0 protobuf-4.21.12\n"
          ]
        }
      ],
      "source": [
        "!pip install vnstock\n",
        "!pip install mysql-connector-python"
      ]
    },
    {
      "cell_type": "code",
      "execution_count": 2,
      "metadata": {
        "id": "OdxPgvw7QV-q"
      },
      "outputs": [],
      "source": [
        "from vnstock import *\n",
        "import pandas as pd\n",
        "from datetime import date\n",
        "import mysql.connector\n",
        "from mysql.connector import Error"
      ]
    },
    {
      "cell_type": "markdown",
      "metadata": {
        "id": "pASsuy_HtlwQ"
      },
      "source": [
        "**Crawl Price**"
      ]
    },
    {
      "cell_type": "code",
      "execution_count": 7,
      "metadata": {
        "id": "aa7oqFMDtkyh"
      },
      "outputs": [],
      "source": [
        "def priceStock(tickers):\n",
        "  for ticker in tickers:\n",
        "    conn = mysql.connector.connect(host='103.200.22.212',\n",
        "      database='analysis_stock',\n",
        "      user='analysis_LeTriDuc',\n",
        "      password='Letriduc')\n",
        "    try:\n",
        "      new_record = stock_historical_data(ticker, '2023-01-01', date.today().strftime(\"%Y-%m-%d\"))\n",
        "      # new_record.insert(0, 'ticker', ticker)\n",
        "      new_record = new_record.fillna(0)\n",
        "\n",
        "      print('in_connect ' + ticker)\n",
        "      try:\n",
        "        if conn.is_connected():\n",
        "          table = 'price_stock'\n",
        "          cursor = conn.cursor()\n",
        "          for i,row in new_record.iterrows():\n",
        "            sql = \"INSERT INTO \" + table + \" VALUES (%s,%s,%s,%s,%s,%s,%s)\"\n",
        "            cursor.execute(sql, tuple(row))\n",
        "            print(\"Record inserted\")\n",
        "            conn.commit()\n",
        "        else:\n",
        "            print(\"Not connected to MySQL\")\n",
        "            break\n",
        "      except Error as e:\n",
        "        print(f'Error while inserting {ticker} to database', e)\n",
        "    except:\n",
        "      print(f'Error while extracting data {ticker}')"
      ]
    },
    {
      "cell_type": "code",
      "execution_count": 8,
      "metadata": {
        "id": "frTVUVUlzl7k",
        "colab": {
          "base_uri": "https://localhost:8080/"
        },
        "outputId": "2af67af4-f950-46b5-b020-df4fa3b874e0"
      },
      "outputs": [
        {
          "output_type": "stream",
          "name": "stdout",
          "text": [
            "in_connect HAG\n",
            "Record inserted\n",
            "Record inserted\n",
            "Record inserted\n",
            "Record inserted\n",
            "Record inserted\n",
            "Record inserted\n",
            "Record inserted\n",
            "Record inserted\n",
            "Record inserted\n",
            "Record inserted\n",
            "Record inserted\n",
            "Record inserted\n",
            "Record inserted\n",
            "Record inserted\n",
            "Record inserted\n",
            "Record inserted\n",
            "Record inserted\n",
            "Record inserted\n",
            "Record inserted\n",
            "Record inserted\n",
            "Record inserted\n",
            "Record inserted\n",
            "Record inserted\n",
            "Record inserted\n",
            "Record inserted\n",
            "Record inserted\n",
            "Record inserted\n",
            "Record inserted\n",
            "Record inserted\n",
            "Record inserted\n",
            "Record inserted\n",
            "Record inserted\n",
            "Record inserted\n",
            "Record inserted\n",
            "Record inserted\n",
            "Record inserted\n",
            "Record inserted\n",
            "Record inserted\n",
            "Record inserted\n",
            "Record inserted\n",
            "Record inserted\n",
            "Record inserted\n",
            "Record inserted\n",
            "Record inserted\n",
            "Record inserted\n",
            "Record inserted\n",
            "Record inserted\n",
            "Record inserted\n",
            "Record inserted\n",
            "Record inserted\n",
            "Record inserted\n",
            "Record inserted\n",
            "Record inserted\n",
            "Record inserted\n",
            "Record inserted\n",
            "Record inserted\n",
            "Record inserted\n",
            "Record inserted\n",
            "Record inserted\n",
            "Record inserted\n",
            "Record inserted\n",
            "Record inserted\n",
            "Record inserted\n",
            "Record inserted\n",
            "Record inserted\n",
            "Record inserted\n",
            "Record inserted\n",
            "Record inserted\n",
            "Record inserted\n",
            "Record inserted\n",
            "Record inserted\n",
            "Record inserted\n",
            "Record inserted\n",
            "Record inserted\n",
            "Record inserted\n",
            "Record inserted\n",
            "Record inserted\n",
            "Record inserted\n",
            "Record inserted\n",
            "Record inserted\n",
            "Record inserted\n",
            "Record inserted\n",
            "Record inserted\n",
            "Record inserted\n",
            "Record inserted\n",
            "Record inserted\n",
            "Record inserted\n",
            "Record inserted\n",
            "Record inserted\n",
            "Record inserted\n",
            "Record inserted\n",
            "Record inserted\n",
            "Record inserted\n",
            "Record inserted\n",
            "Record inserted\n",
            "Record inserted\n",
            "Record inserted\n",
            "Record inserted\n",
            "Record inserted\n",
            "Record inserted\n",
            "Record inserted\n",
            "Record inserted\n",
            "Record inserted\n",
            "Record inserted\n",
            "Record inserted\n",
            "Record inserted\n",
            "Record inserted\n",
            "Record inserted\n",
            "Record inserted\n",
            "Record inserted\n",
            "Record inserted\n",
            "Record inserted\n",
            "Record inserted\n",
            "Record inserted\n",
            "Record inserted\n",
            "Record inserted\n",
            "Record inserted\n",
            "Record inserted\n",
            "Record inserted\n",
            "Record inserted\n",
            "Record inserted\n",
            "Record inserted\n",
            "Record inserted\n",
            "Record inserted\n",
            "Record inserted\n",
            "Record inserted\n",
            "Record inserted\n",
            "Record inserted\n",
            "Record inserted\n",
            "Record inserted\n",
            "Record inserted\n",
            "Record inserted\n",
            "Record inserted\n",
            "Record inserted\n",
            "Record inserted\n",
            "Record inserted\n",
            "Record inserted\n",
            "Record inserted\n",
            "Record inserted\n",
            "Record inserted\n",
            "Record inserted\n",
            "Record inserted\n",
            "Record inserted\n",
            "Record inserted\n",
            "Record inserted\n",
            "Record inserted\n",
            "Record inserted\n",
            "Record inserted\n",
            "Record inserted\n",
            "Record inserted\n",
            "Record inserted\n"
          ]
        }
      ],
      "source": [
        "priceStock(['HAG'])"
      ]
    },
    {
      "cell_type": "markdown",
      "metadata": {
        "id": "HDTeY6kwYtma"
      },
      "source": [
        "**Crawl Income Statement**\n"
      ]
    },
    {
      "cell_type": "code",
      "execution_count": null,
      "metadata": {
        "id": "QF2aEPbuEK47"
      },
      "outputs": [],
      "source": [
        "def incomeStatement(tickers):\n",
        "  for ticker in tickers:\n",
        "    conn = mysql.connector.connect(host='103.200.22.212',\n",
        "      database='analysis_stock',\n",
        "      user='analysis_LeTriDuc',\n",
        "      password='Letriduc')\n",
        "    try:\n",
        "      new_record = financial_flow(symbol=ticker, report_type='incomestatement', report_range='quarterly')\n",
        "      new_record.reset_index(inplace=True)\n",
        "      new_record = new_record.fillna(0)\n",
        "      new_record[['year', 'quarter']] = new_record['index'].str.split('-Q', expand=True)\n",
        "      new_record = new_record.drop('index', axis = 1)\n",
        "\n",
        "      print('in_connect' + ticker)\n",
        "      try:\n",
        "        if conn.is_connected():\n",
        "          table = 'incomeStatement'\n",
        "          cursor = conn.cursor()\n",
        "          for i,row in new_record.iterrows():\n",
        "            sql = \"INSERT INTO \" + table + \" VALUES (%s,%s,%s,%s,%s,%s,%s,%s,%s,%s, \\\n",
        "                                             %s,%s,%s,%s,%s,%s,%s,%s,%s,%s, \\\n",
        "                                             %s,%s,%s,%s)\"\n",
        "\n",
        "            cursor.execute(sql, tuple(row))\n",
        "            print(\"Record inserted\")\n",
        "            conn.commit()\n",
        "\n",
        "        else:\n",
        "            print(\"Not connected to MySQL\")\n",
        "            break\n",
        "      except Error as e:\n",
        "        print(f'Error while inserting {ticker} to database', e)\n",
        "    except:\n",
        "      print(f'Error while extracting data {ticker}')"
      ]
    },
    {
      "cell_type": "code",
      "execution_count": null,
      "metadata": {
        "id": "irTMRKX_YqIq",
        "colab": {
          "base_uri": "https://localhost:8080/"
        },
        "outputId": "10dc4d3a-8490-4220-8fed-f28b9405bd70"
      },
      "outputs": [
        {
          "output_type": "stream",
          "name": "stdout",
          "text": [
            "in_connectHAG\n",
            "Record inserted\n",
            "Adding HAG\n"
          ]
        }
      ],
      "source": [
        "incomeStatement(['HAG'])"
      ]
    },
    {
      "cell_type": "markdown",
      "metadata": {
        "id": "nj7Ro33KYzTy"
      },
      "source": [
        "**Balance Sheet**"
      ]
    },
    {
      "cell_type": "code",
      "execution_count": 15,
      "metadata": {
        "id": "k9GRWvqeGvez"
      },
      "outputs": [],
      "source": [
        "def balanceSheet(tickers):\n",
        "  for ticker in tickers:\n",
        "    conn = mysql.connector.connect(host='103.200.22.212',\n",
        "      database='analysis_stock',\n",
        "      user='analysis_LeTriDuc',\n",
        "      password='Letriduc')\n",
        "    try:\n",
        "      new_record = financial_flow(symbol=ticker, report_type='balancesheet', report_range='yearly')\n",
        "      new_record.reset_index(inplace=True)\n",
        "      new_record = new_record.fillna(0)\n",
        "      new_record[['year', 'quarter']] = new_record['index'].str.split('-Q', expand=True)\n",
        "      new_record = new_record.drop('index', axis = 1)\n",
        "\n",
        "      print('in_connect ' + ticker)\n",
        "      try:\n",
        "        if conn.is_connected():\n",
        "          table = 'balanceSheet'\n",
        "          cursor = conn.cursor()\n",
        "\n",
        "          for i,row in new_record.iterrows():\n",
        "            sql = \"INSERT INTO \" + table + \" VALUES (%s,%s,%s,%s,%s,%s,%s,%s,%s,%s, \\\n",
        "                                             %s,%s,%s,%s,%s,%s,%s,%s,%s,%s, \\\n",
        "                                             %s,%s,%s,%s,%s,%s,%s,%s,%s,%s, \\\n",
        "                                             %s,%s,%s,%s,%s,%s,%s )\"\n",
        "\n",
        "            cursor.execute(sql, tuple(row))\n",
        "            print(\"Record inserted\")\n",
        "            conn.commit()\n",
        "        else:\n",
        "            print(\"Not connected to MySQL\")\n",
        "            break\n",
        "      except Error as e:\n",
        "        print(f'Error while inserting {ticker} to database', e)\n",
        "    except:\n",
        "      print(f'Error while extracting data {ticker}')"
      ]
    },
    {
      "cell_type": "code",
      "execution_count": 16,
      "metadata": {
        "id": "jkJFbcpod4Pg",
        "colab": {
          "base_uri": "https://localhost:8080/"
        },
        "outputId": "36af32f9-6e2c-46a8-a946-106ab5f28a27"
      },
      "outputs": [
        {
          "output_type": "stream",
          "name": "stdout",
          "text": [
            "Error while extracting data MBS\n"
          ]
        }
      ],
      "source": [
        "balanceSheet(['AGP'])"
      ]
    },
    {
      "cell_type": "markdown",
      "metadata": {
        "id": "fnfRm9ex2lp1"
      },
      "source": [
        "**Crawl Cash Flow**"
      ]
    },
    {
      "cell_type": "code",
      "execution_count": 17,
      "metadata": {
        "id": "Cvo4SPrP2k7f"
      },
      "outputs": [],
      "source": [
        "def cashFlow(tickers):\n",
        "  for ticker in tickers:\n",
        "    conn = mysql.connector.connect(host='103.200.22.212',\n",
        "      database='analysis_stock',\n",
        "      user='analysis_LeTriDuc',\n",
        "      password='Letriduc')\n",
        "    try:\n",
        "      new_record = financial_flow(symbol=ticker, report_type='cashflow', report_range='quarterly')\n",
        "      new_record.reset_index(inplace=True)\n",
        "      new_record = new_record.fillna(0)\n",
        "      new_record[['year', 'quarter']] = new_record['index'].str.split('-Q', expand=True)\n",
        "      new_record = new_record.drop('index', axis = 1)\n",
        "\n",
        "      print('in_connect ' + ticker)\n",
        "      try:\n",
        "        if conn.is_connected():\n",
        "          table = 'cashFlow'\n",
        "          cursor = conn.cursor()\n",
        "          for i,row in new_record.iterrows():\n",
        "            sql = \"INSERT INTO \" + table + \" VALUES (%s,%s,%s,%s,%s,%s,%s,%s )\"\n",
        "\n",
        "            cursor.execute(sql, tuple(row))\n",
        "            print(\"Record inserted\")\n",
        "            conn.commit()\n",
        "        else:\n",
        "            print(\"Not connected to MySQL\")\n",
        "            break\n",
        "      except Error as e:\n",
        "        print(f'Error while inserting {ticker} to database', e)\n",
        "      continue\n",
        "    except:\n",
        "      print(f'Error while extracting data {ticker}')"
      ]
    },
    {
      "cell_type": "code",
      "execution_count": 18,
      "metadata": {
        "id": "YiNierheBnH7",
        "colab": {
          "base_uri": "https://localhost:8080/"
        },
        "outputId": "ebba8166-7250-47e3-8662-222f20fcd2de"
      },
      "outputs": [
        {
          "output_type": "stream",
          "name": "stdout",
          "text": [
            "in_connect AGP\n",
            "Record inserted\n",
            "Record inserted\n",
            "Record inserted\n",
            "Record inserted\n",
            "Record inserted\n",
            "Record inserted\n",
            "Record inserted\n",
            "Record inserted\n",
            "Record inserted\n",
            "Record inserted\n",
            "Record inserted\n",
            "Record inserted\n",
            "Record inserted\n",
            "Record inserted\n",
            "Record inserted\n",
            "Record inserted\n",
            "Record inserted\n",
            "Record inserted\n",
            "Record inserted\n",
            "Record inserted\n",
            "Record inserted\n",
            "Record inserted\n",
            "Record inserted\n",
            "Record inserted\n"
          ]
        }
      ],
      "source": [
        "cashFlow(['AGP'])"
      ]
    },
    {
      "cell_type": "markdown",
      "metadata": {
        "id": "4x_kX8Gj8Bmq"
      },
      "source": [
        "**Ratio**"
      ]
    },
    {
      "cell_type": "code",
      "execution_count": null,
      "metadata": {
        "id": "pTAxwyMV8Dkd"
      },
      "outputs": [],
      "source": [
        "def ratio(tickers):\n",
        "  for ticker in tickers:\n",
        "    conn = mysql.connector.connect(host='103.200.22.212',\n",
        "      database='analysis_stock',\n",
        "      user='analysis_LeTriDuc',\n",
        "      password='Letriduc')\n",
        "    try:\n",
        "      new_record = financial_ratio(ticker, 'quarterly', True)\n",
        "      new_record = new_record.fillna(0)\n",
        "      print('in_connect ' + ticker)\n",
        "      try:\n",
        "        if conn.is_connected():\n",
        "          table = 'ratio'\n",
        "          cursor = conn.cursor()\n",
        "          for i,row in new_record.iterrows():\n",
        "            sql = \"INSERT INTO \" + table + \" VALUES (%s,%s,%s,%s,%s,%s,%s,%s,%s,%s,%s,%s,%s,\\\n",
        "                                                    %s,%s,%s,%s,%s,%s,%s,%s,%s,%s,%s,%s,%s,%s,\\\n",
        "                                                    %s,%s,%s,%s,%s,%s,%s,%s,%s,%s,%s,%s,%s,%s,%s,\\\n",
        "                                                    %s,%s,%s,%s,%s,%s,%s,%s,%s,%s,%s,%s,%s,%s,%s,%s,%s)\"\n",
        "\n",
        "            cursor.execute(sql, tuple(row))\n",
        "            print(\"Record inserted\")\n",
        "            conn.commit()\n",
        "          else:\n",
        "            print(\"Not connected to MySQL\")\n",
        "            break\n",
        "      except Error as e:\n",
        "        print(f'Error while inserting {ticker} to database', e)\n",
        "\n",
        "      # continue\n",
        "    except:\n",
        "      print(f'Error while extracting data {ticker}')"
      ]
    },
    {
      "cell_type": "code",
      "execution_count": null,
      "metadata": {
        "id": "IbTBFBRKS-St"
      },
      "outputs": [],
      "source": [
        "ratio(['OPC','MTP','MKV','MED','DPP','CDP','BIO','BCV','BCP'])"
      ]
    },
    {
      "cell_type": "markdown",
      "source": [
        "**Overview**"
      ],
      "metadata": {
        "id": "Xqa_7Tq0dtfh"
      }
    },
    {
      "cell_type": "code",
      "source": [
        "def overView(tickers):\n",
        "  for ticker in tickers:\n",
        "    conn = mysql.connector.connect(host='103.200.22.212',\n",
        "      database='analysis_stock',\n",
        "      user='analysis_LeTriDuc',\n",
        "      password='Letriduc')\n",
        "    try:\n",
        "      new_record = company_overview(ticker)\n",
        "      print('in_connect ' + ticker)\n",
        "      try:\n",
        "        if conn.is_connected():\n",
        "          table = 'company_overview'\n",
        "          cursor = conn.cursor()\n",
        "          for i,row in new_record.iterrows():\n",
        "            sql = \"INSERT INTO \" + table + \" VALUES (%s,%s,%s,%s,%s,%s,%s,%s,%s,%s,\\\n",
        "                                                  %s,%s,%s,%s,%s,%s,%s,%s,%s)\"\n",
        "\n",
        "            cursor.execute(sql, tuple(row))\n",
        "            print(\"Record inserted\")\n",
        "            conn.commit()\n",
        "        else:\n",
        "            print(\"Not connected to MySQL\")\n",
        "            break\n",
        "      except Error as e:\n",
        "        print(f'Error while inserting {ticker} to database', e)\n",
        "\n",
        "      continue\n",
        "    except:\n",
        "      print(f'Error while extracting data {ticker}')"
      ],
      "metadata": {
        "id": "_51lXQETdrvD"
      },
      "execution_count": 13,
      "outputs": []
    },
    {
      "cell_type": "code",
      "source": [
        "company_overview('HAG')"
      ],
      "metadata": {
        "colab": {
          "base_uri": "https://localhost:8080/",
          "height": 179
        },
        "id": "6hz1vfA4JZ_E",
        "outputId": "5ce75762-84a2-477d-e4bb-4314ac2b61cb"
      },
      "execution_count": null,
      "outputs": [
        {
          "output_type": "execute_result",
          "data": {
            "text/plain": [
              "  exchange          shortName  industryID industryIDv2              industry  \\\n",
              "0     HOSE  Hoàng Anh Gia Lai         217         3573  Thực phẩm và đồ uống   \n",
              "\n",
              "        industryEn establishedYear  noEmployees  noShareholders  \\\n",
              "0  Food & Beverage            2006         2084           54114   \n",
              "\n",
              "   foreignPercent                 website  stockRating  deltaInWeek  \\\n",
              "0           0.027  http://www.hagl.com.vn          3.6        0.008   \n",
              "\n",
              "   deltaInMonth  deltaInYear  outstandingShare  issueShare companyType ticker  \n",
              "0         0.058       -0.188             927.4       927.5          CT    HAG  "
            ],
            "text/html": [
              "\n",
              "\n",
              "  <div id=\"df-aecea700-fb9a-444a-b72b-0a92b254d85e\">\n",
              "    <div class=\"colab-df-container\">\n",
              "      <div>\n",
              "<style scoped>\n",
              "    .dataframe tbody tr th:only-of-type {\n",
              "        vertical-align: middle;\n",
              "    }\n",
              "\n",
              "    .dataframe tbody tr th {\n",
              "        vertical-align: top;\n",
              "    }\n",
              "\n",
              "    .dataframe thead th {\n",
              "        text-align: right;\n",
              "    }\n",
              "</style>\n",
              "<table border=\"1\" class=\"dataframe\">\n",
              "  <thead>\n",
              "    <tr style=\"text-align: right;\">\n",
              "      <th></th>\n",
              "      <th>exchange</th>\n",
              "      <th>shortName</th>\n",
              "      <th>industryID</th>\n",
              "      <th>industryIDv2</th>\n",
              "      <th>industry</th>\n",
              "      <th>industryEn</th>\n",
              "      <th>establishedYear</th>\n",
              "      <th>noEmployees</th>\n",
              "      <th>noShareholders</th>\n",
              "      <th>foreignPercent</th>\n",
              "      <th>website</th>\n",
              "      <th>stockRating</th>\n",
              "      <th>deltaInWeek</th>\n",
              "      <th>deltaInMonth</th>\n",
              "      <th>deltaInYear</th>\n",
              "      <th>outstandingShare</th>\n",
              "      <th>issueShare</th>\n",
              "      <th>companyType</th>\n",
              "      <th>ticker</th>\n",
              "    </tr>\n",
              "  </thead>\n",
              "  <tbody>\n",
              "    <tr>\n",
              "      <th>0</th>\n",
              "      <td>HOSE</td>\n",
              "      <td>Hoàng Anh Gia Lai</td>\n",
              "      <td>217</td>\n",
              "      <td>3573</td>\n",
              "      <td>Thực phẩm và đồ uống</td>\n",
              "      <td>Food &amp; Beverage</td>\n",
              "      <td>2006</td>\n",
              "      <td>2084</td>\n",
              "      <td>54114</td>\n",
              "      <td>0.027</td>\n",
              "      <td>http://www.hagl.com.vn</td>\n",
              "      <td>3.6</td>\n",
              "      <td>0.008</td>\n",
              "      <td>0.058</td>\n",
              "      <td>-0.188</td>\n",
              "      <td>927.4</td>\n",
              "      <td>927.5</td>\n",
              "      <td>CT</td>\n",
              "      <td>HAG</td>\n",
              "    </tr>\n",
              "  </tbody>\n",
              "</table>\n",
              "</div>\n",
              "      <button class=\"colab-df-convert\" onclick=\"convertToInteractive('df-aecea700-fb9a-444a-b72b-0a92b254d85e')\"\n",
              "              title=\"Convert this dataframe to an interactive table.\"\n",
              "              style=\"display:none;\">\n",
              "\n",
              "  <svg xmlns=\"http://www.w3.org/2000/svg\" height=\"24px\"viewBox=\"0 0 24 24\"\n",
              "       width=\"24px\">\n",
              "    <path d=\"M0 0h24v24H0V0z\" fill=\"none\"/>\n",
              "    <path d=\"M18.56 5.44l.94 2.06.94-2.06 2.06-.94-2.06-.94-.94-2.06-.94 2.06-2.06.94zm-11 1L8.5 8.5l.94-2.06 2.06-.94-2.06-.94L8.5 2.5l-.94 2.06-2.06.94zm10 10l.94 2.06.94-2.06 2.06-.94-2.06-.94-.94-2.06-.94 2.06-2.06.94z\"/><path d=\"M17.41 7.96l-1.37-1.37c-.4-.4-.92-.59-1.43-.59-.52 0-1.04.2-1.43.59L10.3 9.45l-7.72 7.72c-.78.78-.78 2.05 0 2.83L4 21.41c.39.39.9.59 1.41.59.51 0 1.02-.2 1.41-.59l7.78-7.78 2.81-2.81c.8-.78.8-2.07 0-2.86zM5.41 20L4 18.59l7.72-7.72 1.47 1.35L5.41 20z\"/>\n",
              "  </svg>\n",
              "      </button>\n",
              "\n",
              "\n",
              "\n",
              "    <div id=\"df-84cfbeff-4525-4c46-a999-91205ca60a9c\">\n",
              "      <button class=\"colab-df-quickchart\" onclick=\"quickchart('df-84cfbeff-4525-4c46-a999-91205ca60a9c')\"\n",
              "              title=\"Suggest charts.\"\n",
              "              style=\"display:none;\">\n",
              "\n",
              "<svg xmlns=\"http://www.w3.org/2000/svg\" height=\"24px\"viewBox=\"0 0 24 24\"\n",
              "     width=\"24px\">\n",
              "    <g>\n",
              "        <path d=\"M19 3H5c-1.1 0-2 .9-2 2v14c0 1.1.9 2 2 2h14c1.1 0 2-.9 2-2V5c0-1.1-.9-2-2-2zM9 17H7v-7h2v7zm4 0h-2V7h2v10zm4 0h-2v-4h2v4z\"/>\n",
              "    </g>\n",
              "</svg>\n",
              "      </button>\n",
              "    </div>\n",
              "\n",
              "<style>\n",
              "  .colab-df-quickchart {\n",
              "    background-color: #E8F0FE;\n",
              "    border: none;\n",
              "    border-radius: 50%;\n",
              "    cursor: pointer;\n",
              "    display: none;\n",
              "    fill: #1967D2;\n",
              "    height: 32px;\n",
              "    padding: 0 0 0 0;\n",
              "    width: 32px;\n",
              "  }\n",
              "\n",
              "  .colab-df-quickchart:hover {\n",
              "    background-color: #E2EBFA;\n",
              "    box-shadow: 0px 1px 2px rgba(60, 64, 67, 0.3), 0px 1px 3px 1px rgba(60, 64, 67, 0.15);\n",
              "    fill: #174EA6;\n",
              "  }\n",
              "\n",
              "  [theme=dark] .colab-df-quickchart {\n",
              "    background-color: #3B4455;\n",
              "    fill: #D2E3FC;\n",
              "  }\n",
              "\n",
              "  [theme=dark] .colab-df-quickchart:hover {\n",
              "    background-color: #434B5C;\n",
              "    box-shadow: 0px 1px 3px 1px rgba(0, 0, 0, 0.15);\n",
              "    filter: drop-shadow(0px 1px 2px rgba(0, 0, 0, 0.3));\n",
              "    fill: #FFFFFF;\n",
              "  }\n",
              "</style>\n",
              "\n",
              "    <script>\n",
              "      async function quickchart(key) {\n",
              "        const containerElement = document.querySelector('#' + key);\n",
              "        const charts = await google.colab.kernel.invokeFunction(\n",
              "            'suggestCharts', [key], {});\n",
              "      }\n",
              "    </script>\n",
              "\n",
              "      <script>\n",
              "\n",
              "function displayQuickchartButton(domScope) {\n",
              "  let quickchartButtonEl =\n",
              "    domScope.querySelector('#df-84cfbeff-4525-4c46-a999-91205ca60a9c button.colab-df-quickchart');\n",
              "  quickchartButtonEl.style.display =\n",
              "    google.colab.kernel.accessAllowed ? 'block' : 'none';\n",
              "}\n",
              "\n",
              "        displayQuickchartButton(document);\n",
              "      </script>\n",
              "      <style>\n",
              "    .colab-df-container {\n",
              "      display:flex;\n",
              "      flex-wrap:wrap;\n",
              "      gap: 12px;\n",
              "    }\n",
              "\n",
              "    .colab-df-convert {\n",
              "      background-color: #E8F0FE;\n",
              "      border: none;\n",
              "      border-radius: 50%;\n",
              "      cursor: pointer;\n",
              "      display: none;\n",
              "      fill: #1967D2;\n",
              "      height: 32px;\n",
              "      padding: 0 0 0 0;\n",
              "      width: 32px;\n",
              "    }\n",
              "\n",
              "    .colab-df-convert:hover {\n",
              "      background-color: #E2EBFA;\n",
              "      box-shadow: 0px 1px 2px rgba(60, 64, 67, 0.3), 0px 1px 3px 1px rgba(60, 64, 67, 0.15);\n",
              "      fill: #174EA6;\n",
              "    }\n",
              "\n",
              "    [theme=dark] .colab-df-convert {\n",
              "      background-color: #3B4455;\n",
              "      fill: #D2E3FC;\n",
              "    }\n",
              "\n",
              "    [theme=dark] .colab-df-convert:hover {\n",
              "      background-color: #434B5C;\n",
              "      box-shadow: 0px 1px 3px 1px rgba(0, 0, 0, 0.15);\n",
              "      filter: drop-shadow(0px 1px 2px rgba(0, 0, 0, 0.3));\n",
              "      fill: #FFFFFF;\n",
              "    }\n",
              "  </style>\n",
              "\n",
              "      <script>\n",
              "        const buttonEl =\n",
              "          document.querySelector('#df-aecea700-fb9a-444a-b72b-0a92b254d85e button.colab-df-convert');\n",
              "        buttonEl.style.display =\n",
              "          google.colab.kernel.accessAllowed ? 'block' : 'none';\n",
              "\n",
              "        async function convertToInteractive(key) {\n",
              "          const element = document.querySelector('#df-aecea700-fb9a-444a-b72b-0a92b254d85e');\n",
              "          const dataTable =\n",
              "            await google.colab.kernel.invokeFunction('convertToInteractive',\n",
              "                                                     [key], {});\n",
              "          if (!dataTable) return;\n",
              "\n",
              "          const docLinkHtml = 'Like what you see? Visit the ' +\n",
              "            '<a target=\"_blank\" href=https://colab.research.google.com/notebooks/data_table.ipynb>data table notebook</a>'\n",
              "            + ' to learn more about interactive tables.';\n",
              "          element.innerHTML = '';\n",
              "          dataTable['output_type'] = 'display_data';\n",
              "          await google.colab.output.renderOutput(dataTable, element);\n",
              "          const docLink = document.createElement('div');\n",
              "          docLink.innerHTML = docLinkHtml;\n",
              "          element.appendChild(docLink);\n",
              "        }\n",
              "      </script>\n",
              "    </div>\n",
              "  </div>\n"
            ]
          },
          "metadata": {},
          "execution_count": 48
        }
      ]
    },
    {
      "cell_type": "code",
      "source": [
        "overView(['AGP'])"
      ],
      "metadata": {
        "colab": {
          "base_uri": "https://localhost:8080/"
        },
        "id": "kRKXvttpfLAS",
        "outputId": "468bf82b-3b8e-426c-ac30-e6a45bb25a32"
      },
      "execution_count": 14,
      "outputs": [
        {
          "output_type": "stream",
          "name": "stdout",
          "text": [
            "in_connect AGP\n",
            "Record inserted\n"
          ]
        }
      ]
    }
  ],
  "metadata": {
    "colab": {
      "provenance": []
    },
    "kernelspec": {
      "display_name": "Python 3",
      "name": "python3"
    },
    "language_info": {
      "name": "python"
    }
  },
  "nbformat": 4,
  "nbformat_minor": 0
}